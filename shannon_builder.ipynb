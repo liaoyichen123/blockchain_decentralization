{
 "cells": [
  {
   "cell_type": "code",
   "execution_count": 19,
   "metadata": {
    "collapsed": true
   },
   "outputs": [
    {
     "data": {
      "text/plain": "                                                     hash   nonce  \\\n0       0x0f279685290200812f28fa72ee6003d5a81e00188e30...  463322   \n1       0x0f279685290200812f28fa72ee6003d5a81e00188e30...  463322   \n2       0xf06662ce48394fecc8f7f8caeba921c85b247a1b72b7...   12189   \n3       0xf06662ce48394fecc8f7f8caeba921c85b247a1b72b7...   12189   \n4       0xf06662ce48394fecc8f7f8caeba921c85b247a1b72b7...   12189   \n...                                                   ...     ...   \n196814  0x1a3244dae7fdc997041ef808ddf480352976cff57942...  452793   \n196815  0x3c4de2aad75317f6f6abfec62463443357945d8d5edd...   19966   \n196816  0x2e625da775e396ab6b04a75c5b44b9f46941bb1d0a9c...  639280   \n196817  0x96a0f4f8ebe1cc7adf41eab10492b57baf9dedaeecc2...  491427   \n196818  0x769c78c451f0e1290f06754a461cf61bdab0f3539697...   13304   \n\n        transaction_index                                from_address  \\\n0                     113  0x1f9090aae28b8a3dceadf281b0f12828e676c326   \n1                     113  0x1f9090aae28b8a3dceadf281b0f12828e676c326   \n2                     170  0x0aa8ebb6ad5a8e499e550ae2c461197624c6e667   \n3                     170  0x0aa8ebb6ad5a8e499e550ae2c461197624c6e667   \n4                     170  0x0aa8ebb6ad5a8e499e550ae2c461197624c6e667   \n...                   ...                                         ...   \n196814                141  0x1f9090aae28b8a3dceadf281b0f12828e676c326   \n196815                118  0x88c6c46ebf353a52bdbab708c23d0c81daa8134a   \n196816                167  0x95222290dd7278aa3ddd389cc1e1d165cc4bafe5   \n196817                216  0x1f9090aae28b8a3dceadf281b0f12828e676c326   \n196818                144  0x88c6c46ebf353a52bdbab708c23d0c81daa8134a   \n\n                                        to_address       value_x    gas  \\\n0       0xb3d9cf8e163bbc840195a97e81f8a34e295b8f39  9.334251e+16  29683   \n1       0xb3d9cf8e163bbc840195a97e81f8a34e295b8f39  9.334251e+16  29683   \n2       0x0000000000450702bc4f750fd1e7ecad7054c4f1  2.114301e+16  50451   \n3       0x0000000000450702bc4f750fd1e7ecad7054c4f1  2.114301e+16  50451   \n4       0x0000000000450702bc4f750fd1e7ecad7054c4f1  2.114301e+16  50451   \n...                                            ...           ...    ...   \n196814  0xd6e4aa932147a3fe5311da1b67d9e73da06f9cef  2.733885e+16  28159   \n196815  0xd6e4aa932147a3fe5311da1b67d9e73da06f9cef  2.055684e+16  28159   \n196816  0xd6e4aa932147a3fe5311da1b67d9e73da06f9cef  1.610417e+16  28159   \n196817  0xd6e4aa932147a3fe5311da1b67d9e73da06f9cef  7.989162e+16  28159   \n196818  0xd6e4aa932147a3fe5311da1b67d9e73da06f9cef  1.873448e+16  28159   \n\n          gas_price                                              input  \\\n0       16675160900                                                 0x   \n1       16675160900                                                 0x   \n2       12555993581  0x000000000adc0aa8ebb6ad5a8e499e550ae2c4611976...   \n3       12555993581  0x000000000adc0aa8ebb6ad5a8e499e550ae2c4611976...   \n4       12555993581  0x000000000adc0aa8ebb6ad5a8e499e550ae2c4611976...   \n...             ...                                                ...   \n196814   8825600040                                                 0x   \n196815  20435446364                                                 0x   \n196816  23122519806                                                 0x   \n196817  16546507781                                                 0x   \n196818  27249132837                                                 0x   \n\n        receipt_cumulative_gas_used  ...  max_priority_fee_per_gas  \\\n0                           9773650  ...                       0.0   \n1                           9773650  ...                       0.0   \n2                          12097702  ...                       0.0   \n3                          12097702  ...                       0.0   \n4                          12097702  ...                       0.0   \n...                             ...  ...                       ...   \n196814                     19237635  ...                       0.0   \n196815                     12369992  ...                       0.0   \n196816                     19237776  ...                       0.0   \n196817                     25153398  ...                       0.0   \n196818                     10670629  ...                       0.0   \n\n       transaction_type receipt_effective_gas_price            relay     slot  \\\n0                     2                 16675160900  agnostic Gnosis  8146863   \n1                     2                 16675160900       ultrasound  8146863   \n2                     2                 12555993581        flashbots  8147189   \n3                     2                 12555993581  agnostic Gnosis  8147189   \n4                     2                 12555993581       ultrasound  8147189   \n...                 ...                         ...              ...      ...   \n196814                2                  8825600040  agnostic Gnosis  8106022   \n196815                2                 20435446364           aestus  8286466   \n196816                2                 23122519806       ultrasound  8288089   \n196817                2                 16546507781        flashbots  8289757   \n196818                2                 27249132837           aestus  8181545   \n\n                                           builder_pubkey            value_y  \\\n0       0x978a35c39c41aadbe35ea29712bccffb117cc6ebcad4...  93342509421662937   \n1       0x978a35c39c41aadbe35ea29712bccffb117cc6ebcad4...  93342509421662937   \n2       0xae7f0dd473d986b277539cca610aba02c437082ac504...  21143014533381004   \n3       0xae7f0dd473d986b277539cca610aba02c437082ac504...  21143014533381004   \n4       0xae7f0dd473d986b277539cca610aba02c437082ac504...  21143014533381004   \n...                                                   ...                ...   \n196814  0x83d3495a2951065cf19c4d282afca0a635a39f6504bd...  27338848635781920   \n196815  0xb0a3a5e8e0330698176d35fda999f522d99222597559...  20556844667292142   \n196816  0xaec4ec48c2ec03c418c599622980184e926f0de3c9ce...  16104174763309807   \n196817  0x978a35c39c41aadbe35ea29712bccffb117cc6ebcad4...  79891616993233902   \n196818  0xb0a3a5e8e0330698176d35fda999f522d99222597559...  18734482036819292   \n\n        gas_used  gas_limit  block_number_y  \n0        9773650   30000000        18951601  \n1        9773650   30000000        18951601  \n2       12097702   30000000        18951918  \n3       12097702   30000000        18951918  \n4       12097702   30000000        18951918  \n...          ...        ...             ...  \n196814  19237635   30000000        18911286  \n196815  12369992   30000000        19089909  \n196816  19237776   30000000        19091524  \n196817  25153398   30000000        19093173  \n196818  10670629   30000000        18985865  \n\n[196819 rows x 28 columns]",
      "text/html": "<div>\n<style scoped>\n    .dataframe tbody tr th:only-of-type {\n        vertical-align: middle;\n    }\n\n    .dataframe tbody tr th {\n        vertical-align: top;\n    }\n\n    .dataframe thead th {\n        text-align: right;\n    }\n</style>\n<table border=\"1\" class=\"dataframe\">\n  <thead>\n    <tr style=\"text-align: right;\">\n      <th></th>\n      <th>hash</th>\n      <th>nonce</th>\n      <th>transaction_index</th>\n      <th>from_address</th>\n      <th>to_address</th>\n      <th>value_x</th>\n      <th>gas</th>\n      <th>gas_price</th>\n      <th>input</th>\n      <th>receipt_cumulative_gas_used</th>\n      <th>...</th>\n      <th>max_priority_fee_per_gas</th>\n      <th>transaction_type</th>\n      <th>receipt_effective_gas_price</th>\n      <th>relay</th>\n      <th>slot</th>\n      <th>builder_pubkey</th>\n      <th>value_y</th>\n      <th>gas_used</th>\n      <th>gas_limit</th>\n      <th>block_number_y</th>\n    </tr>\n  </thead>\n  <tbody>\n    <tr>\n      <th>0</th>\n      <td>0x0f279685290200812f28fa72ee6003d5a81e00188e30...</td>\n      <td>463322</td>\n      <td>113</td>\n      <td>0x1f9090aae28b8a3dceadf281b0f12828e676c326</td>\n      <td>0xb3d9cf8e163bbc840195a97e81f8a34e295b8f39</td>\n      <td>9.334251e+16</td>\n      <td>29683</td>\n      <td>16675160900</td>\n      <td>0x</td>\n      <td>9773650</td>\n      <td>...</td>\n      <td>0.0</td>\n      <td>2</td>\n      <td>16675160900</td>\n      <td>agnostic Gnosis</td>\n      <td>8146863</td>\n      <td>0x978a35c39c41aadbe35ea29712bccffb117cc6ebcad4...</td>\n      <td>93342509421662937</td>\n      <td>9773650</td>\n      <td>30000000</td>\n      <td>18951601</td>\n    </tr>\n    <tr>\n      <th>1</th>\n      <td>0x0f279685290200812f28fa72ee6003d5a81e00188e30...</td>\n      <td>463322</td>\n      <td>113</td>\n      <td>0x1f9090aae28b8a3dceadf281b0f12828e676c326</td>\n      <td>0xb3d9cf8e163bbc840195a97e81f8a34e295b8f39</td>\n      <td>9.334251e+16</td>\n      <td>29683</td>\n      <td>16675160900</td>\n      <td>0x</td>\n      <td>9773650</td>\n      <td>...</td>\n      <td>0.0</td>\n      <td>2</td>\n      <td>16675160900</td>\n      <td>ultrasound</td>\n      <td>8146863</td>\n      <td>0x978a35c39c41aadbe35ea29712bccffb117cc6ebcad4...</td>\n      <td>93342509421662937</td>\n      <td>9773650</td>\n      <td>30000000</td>\n      <td>18951601</td>\n    </tr>\n    <tr>\n      <th>2</th>\n      <td>0xf06662ce48394fecc8f7f8caeba921c85b247a1b72b7...</td>\n      <td>12189</td>\n      <td>170</td>\n      <td>0x0aa8ebb6ad5a8e499e550ae2c461197624c6e667</td>\n      <td>0x0000000000450702bc4f750fd1e7ecad7054c4f1</td>\n      <td>2.114301e+16</td>\n      <td>50451</td>\n      <td>12555993581</td>\n      <td>0x000000000adc0aa8ebb6ad5a8e499e550ae2c4611976...</td>\n      <td>12097702</td>\n      <td>...</td>\n      <td>0.0</td>\n      <td>2</td>\n      <td>12555993581</td>\n      <td>flashbots</td>\n      <td>8147189</td>\n      <td>0xae7f0dd473d986b277539cca610aba02c437082ac504...</td>\n      <td>21143014533381004</td>\n      <td>12097702</td>\n      <td>30000000</td>\n      <td>18951918</td>\n    </tr>\n    <tr>\n      <th>3</th>\n      <td>0xf06662ce48394fecc8f7f8caeba921c85b247a1b72b7...</td>\n      <td>12189</td>\n      <td>170</td>\n      <td>0x0aa8ebb6ad5a8e499e550ae2c461197624c6e667</td>\n      <td>0x0000000000450702bc4f750fd1e7ecad7054c4f1</td>\n      <td>2.114301e+16</td>\n      <td>50451</td>\n      <td>12555993581</td>\n      <td>0x000000000adc0aa8ebb6ad5a8e499e550ae2c4611976...</td>\n      <td>12097702</td>\n      <td>...</td>\n      <td>0.0</td>\n      <td>2</td>\n      <td>12555993581</td>\n      <td>agnostic Gnosis</td>\n      <td>8147189</td>\n      <td>0xae7f0dd473d986b277539cca610aba02c437082ac504...</td>\n      <td>21143014533381004</td>\n      <td>12097702</td>\n      <td>30000000</td>\n      <td>18951918</td>\n    </tr>\n    <tr>\n      <th>4</th>\n      <td>0xf06662ce48394fecc8f7f8caeba921c85b247a1b72b7...</td>\n      <td>12189</td>\n      <td>170</td>\n      <td>0x0aa8ebb6ad5a8e499e550ae2c461197624c6e667</td>\n      <td>0x0000000000450702bc4f750fd1e7ecad7054c4f1</td>\n      <td>2.114301e+16</td>\n      <td>50451</td>\n      <td>12555993581</td>\n      <td>0x000000000adc0aa8ebb6ad5a8e499e550ae2c4611976...</td>\n      <td>12097702</td>\n      <td>...</td>\n      <td>0.0</td>\n      <td>2</td>\n      <td>12555993581</td>\n      <td>ultrasound</td>\n      <td>8147189</td>\n      <td>0xae7f0dd473d986b277539cca610aba02c437082ac504...</td>\n      <td>21143014533381004</td>\n      <td>12097702</td>\n      <td>30000000</td>\n      <td>18951918</td>\n    </tr>\n    <tr>\n      <th>...</th>\n      <td>...</td>\n      <td>...</td>\n      <td>...</td>\n      <td>...</td>\n      <td>...</td>\n      <td>...</td>\n      <td>...</td>\n      <td>...</td>\n      <td>...</td>\n      <td>...</td>\n      <td>...</td>\n      <td>...</td>\n      <td>...</td>\n      <td>...</td>\n      <td>...</td>\n      <td>...</td>\n      <td>...</td>\n      <td>...</td>\n      <td>...</td>\n      <td>...</td>\n      <td>...</td>\n    </tr>\n    <tr>\n      <th>196814</th>\n      <td>0x1a3244dae7fdc997041ef808ddf480352976cff57942...</td>\n      <td>452793</td>\n      <td>141</td>\n      <td>0x1f9090aae28b8a3dceadf281b0f12828e676c326</td>\n      <td>0xd6e4aa932147a3fe5311da1b67d9e73da06f9cef</td>\n      <td>2.733885e+16</td>\n      <td>28159</td>\n      <td>8825600040</td>\n      <td>0x</td>\n      <td>19237635</td>\n      <td>...</td>\n      <td>0.0</td>\n      <td>2</td>\n      <td>8825600040</td>\n      <td>agnostic Gnosis</td>\n      <td>8106022</td>\n      <td>0x83d3495a2951065cf19c4d282afca0a635a39f6504bd...</td>\n      <td>27338848635781920</td>\n      <td>19237635</td>\n      <td>30000000</td>\n      <td>18911286</td>\n    </tr>\n    <tr>\n      <th>196815</th>\n      <td>0x3c4de2aad75317f6f6abfec62463443357945d8d5edd...</td>\n      <td>19966</td>\n      <td>118</td>\n      <td>0x88c6c46ebf353a52bdbab708c23d0c81daa8134a</td>\n      <td>0xd6e4aa932147a3fe5311da1b67d9e73da06f9cef</td>\n      <td>2.055684e+16</td>\n      <td>28159</td>\n      <td>20435446364</td>\n      <td>0x</td>\n      <td>12369992</td>\n      <td>...</td>\n      <td>0.0</td>\n      <td>2</td>\n      <td>20435446364</td>\n      <td>aestus</td>\n      <td>8286466</td>\n      <td>0xb0a3a5e8e0330698176d35fda999f522d99222597559...</td>\n      <td>20556844667292142</td>\n      <td>12369992</td>\n      <td>30000000</td>\n      <td>19089909</td>\n    </tr>\n    <tr>\n      <th>196816</th>\n      <td>0x2e625da775e396ab6b04a75c5b44b9f46941bb1d0a9c...</td>\n      <td>639280</td>\n      <td>167</td>\n      <td>0x95222290dd7278aa3ddd389cc1e1d165cc4bafe5</td>\n      <td>0xd6e4aa932147a3fe5311da1b67d9e73da06f9cef</td>\n      <td>1.610417e+16</td>\n      <td>28159</td>\n      <td>23122519806</td>\n      <td>0x</td>\n      <td>19237776</td>\n      <td>...</td>\n      <td>0.0</td>\n      <td>2</td>\n      <td>23122519806</td>\n      <td>ultrasound</td>\n      <td>8288089</td>\n      <td>0xaec4ec48c2ec03c418c599622980184e926f0de3c9ce...</td>\n      <td>16104174763309807</td>\n      <td>19237776</td>\n      <td>30000000</td>\n      <td>19091524</td>\n    </tr>\n    <tr>\n      <th>196817</th>\n      <td>0x96a0f4f8ebe1cc7adf41eab10492b57baf9dedaeecc2...</td>\n      <td>491427</td>\n      <td>216</td>\n      <td>0x1f9090aae28b8a3dceadf281b0f12828e676c326</td>\n      <td>0xd6e4aa932147a3fe5311da1b67d9e73da06f9cef</td>\n      <td>7.989162e+16</td>\n      <td>28159</td>\n      <td>16546507781</td>\n      <td>0x</td>\n      <td>25153398</td>\n      <td>...</td>\n      <td>0.0</td>\n      <td>2</td>\n      <td>16546507781</td>\n      <td>flashbots</td>\n      <td>8289757</td>\n      <td>0x978a35c39c41aadbe35ea29712bccffb117cc6ebcad4...</td>\n      <td>79891616993233902</td>\n      <td>25153398</td>\n      <td>30000000</td>\n      <td>19093173</td>\n    </tr>\n    <tr>\n      <th>196818</th>\n      <td>0x769c78c451f0e1290f06754a461cf61bdab0f3539697...</td>\n      <td>13304</td>\n      <td>144</td>\n      <td>0x88c6c46ebf353a52bdbab708c23d0c81daa8134a</td>\n      <td>0xd6e4aa932147a3fe5311da1b67d9e73da06f9cef</td>\n      <td>1.873448e+16</td>\n      <td>28159</td>\n      <td>27249132837</td>\n      <td>0x</td>\n      <td>10670629</td>\n      <td>...</td>\n      <td>0.0</td>\n      <td>2</td>\n      <td>27249132837</td>\n      <td>aestus</td>\n      <td>8181545</td>\n      <td>0xb0a3a5e8e0330698176d35fda999f522d99222597559...</td>\n      <td>18734482036819292</td>\n      <td>10670629</td>\n      <td>30000000</td>\n      <td>18985865</td>\n    </tr>\n  </tbody>\n</table>\n<p>196819 rows × 28 columns</p>\n</div>"
     },
     "execution_count": 19,
     "metadata": {},
     "output_type": "execute_result"
    }
   ],
   "source": [
    "import sqlite3\n",
    "import pandas as pd\n",
    "import numpy as np\n",
    "from math import log\n",
    "\n",
    "# Step 1: Connect to the SQLite database and load data into Pandas DataFrames\n",
    "conn = sqlite3.connect('PBS.db')\n",
    "\n",
    "# Load data from builder_proposer_tx and relay_data tables\n",
    "builder_proposer_tx = pd.read_sql_query(\"SELECT * FROM builder_proposer_tx\", conn)\n",
    "relay_data = pd.read_sql_query(\"SELECT * FROM relay_data\", conn)\n",
    "\n",
    "# Step 2: Perform the equivalent operations as in the SQL query using Pandas\n",
    "# Join builder_proposer_tx and relay_data on block_hash\n",
    "merged_data = pd.merge(builder_proposer_tx, relay_data, on='block_hash')\n",
    "\n",
    "merged_data\n",
    "\n",
    "\n"
   ]
  },
  {
   "cell_type": "code",
   "execution_count": 21,
   "outputs": [],
   "source": [
    "address_counts = merged_data.groupby('from_address')['block_hash'].nunique().reset_index(name='address_count')\n",
    "\n",
    "# Step 4: Calculate TotalCount\n",
    "total_count = merged_data['block_hash'].nunique()\n"
   ],
   "metadata": {
    "collapsed": false
   }
  },
  {
   "cell_type": "code",
   "execution_count": 24,
   "outputs": [
    {
     "data": {
      "text/plain": "2.5999059133669076"
     },
     "execution_count": 24,
     "metadata": {},
     "output_type": "execute_result"
    }
   ],
   "source": [
    "# Step 5: Calculate Shannon entropy\n",
    "address_counts['probability'] = address_counts['address_count'] / total_count\n",
    "address_counts['shannon_term'] = -1.0 * address_counts['probability'] * np.log(address_counts['probability'])\n",
    "shannon_entropy = address_counts['shannon_term'].sum()\n",
    "shannon_entropy"
   ],
   "metadata": {
    "collapsed": false
   }
  },
  {
   "cell_type": "code",
   "execution_count": 26,
   "outputs": [
    {
     "data": {
      "text/plain": "140354"
     },
     "execution_count": 26,
     "metadata": {},
     "output_type": "execute_result"
    }
   ],
   "source": [
    "total_count"
   ],
   "metadata": {
    "collapsed": false
   }
  },
  {
   "cell_type": "code",
   "execution_count": 27,
   "outputs": [
    {
     "data": {
      "text/plain": "                                    from_address  address_count  probability  \\\n0     0x000000000000d3b2c76221467d2f8c8f1de832a2              5     0.000036   \n1     0x00000000d7c185343e6504e428b8f8b5ad6c91b8              1     0.000007   \n2     0x000000209e0a892842bc06c354e7d097392cbbbb              1     0.000007   \n3     0x000000cd6521ed1a65fae0678ea15af4eead74fe              4     0.000028   \n4     0x000000ef67a409eb59726fcedae5e589e8b68942              1     0.000007   \n...                                          ...            ...          ...   \n2326  0xffa962e00ac4c58960d557637d5040d1624547d9              1     0.000007   \n2327  0xffdf1dd461e3ce4a78685d2dc0641d95b71b9f53              3     0.000021   \n2328  0xffe7507291feb5e436b2bdbe2a8155f6468629cc              1     0.000007   \n2329  0xffec0067f5a79cff07527f63d83dd5462ccf8ba4              1     0.000007   \n2330  0xfffa84476428be3370be2802b6e0fad24d9fe833              1     0.000007   \n\n      shannon_term  \n0         0.000365  \n1         0.000084  \n2         0.000084  \n3         0.000298  \n4         0.000084  \n...            ...  \n2326      0.000084  \n2327      0.000230  \n2328      0.000084  \n2329      0.000084  \n2330      0.000084  \n\n[2331 rows x 4 columns]",
      "text/html": "<div>\n<style scoped>\n    .dataframe tbody tr th:only-of-type {\n        vertical-align: middle;\n    }\n\n    .dataframe tbody tr th {\n        vertical-align: top;\n    }\n\n    .dataframe thead th {\n        text-align: right;\n    }\n</style>\n<table border=\"1\" class=\"dataframe\">\n  <thead>\n    <tr style=\"text-align: right;\">\n      <th></th>\n      <th>from_address</th>\n      <th>address_count</th>\n      <th>probability</th>\n      <th>shannon_term</th>\n    </tr>\n  </thead>\n  <tbody>\n    <tr>\n      <th>0</th>\n      <td>0x000000000000d3b2c76221467d2f8c8f1de832a2</td>\n      <td>5</td>\n      <td>0.000036</td>\n      <td>0.000365</td>\n    </tr>\n    <tr>\n      <th>1</th>\n      <td>0x00000000d7c185343e6504e428b8f8b5ad6c91b8</td>\n      <td>1</td>\n      <td>0.000007</td>\n      <td>0.000084</td>\n    </tr>\n    <tr>\n      <th>2</th>\n      <td>0x000000209e0a892842bc06c354e7d097392cbbbb</td>\n      <td>1</td>\n      <td>0.000007</td>\n      <td>0.000084</td>\n    </tr>\n    <tr>\n      <th>3</th>\n      <td>0x000000cd6521ed1a65fae0678ea15af4eead74fe</td>\n      <td>4</td>\n      <td>0.000028</td>\n      <td>0.000298</td>\n    </tr>\n    <tr>\n      <th>4</th>\n      <td>0x000000ef67a409eb59726fcedae5e589e8b68942</td>\n      <td>1</td>\n      <td>0.000007</td>\n      <td>0.000084</td>\n    </tr>\n    <tr>\n      <th>...</th>\n      <td>...</td>\n      <td>...</td>\n      <td>...</td>\n      <td>...</td>\n    </tr>\n    <tr>\n      <th>2326</th>\n      <td>0xffa962e00ac4c58960d557637d5040d1624547d9</td>\n      <td>1</td>\n      <td>0.000007</td>\n      <td>0.000084</td>\n    </tr>\n    <tr>\n      <th>2327</th>\n      <td>0xffdf1dd461e3ce4a78685d2dc0641d95b71b9f53</td>\n      <td>3</td>\n      <td>0.000021</td>\n      <td>0.000230</td>\n    </tr>\n    <tr>\n      <th>2328</th>\n      <td>0xffe7507291feb5e436b2bdbe2a8155f6468629cc</td>\n      <td>1</td>\n      <td>0.000007</td>\n      <td>0.000084</td>\n    </tr>\n    <tr>\n      <th>2329</th>\n      <td>0xffec0067f5a79cff07527f63d83dd5462ccf8ba4</td>\n      <td>1</td>\n      <td>0.000007</td>\n      <td>0.000084</td>\n    </tr>\n    <tr>\n      <th>2330</th>\n      <td>0xfffa84476428be3370be2802b6e0fad24d9fe833</td>\n      <td>1</td>\n      <td>0.000007</td>\n      <td>0.000084</td>\n    </tr>\n  </tbody>\n</table>\n<p>2331 rows × 4 columns</p>\n</div>"
     },
     "execution_count": 27,
     "metadata": {},
     "output_type": "execute_result"
    }
   ],
   "source": [
    "address_counts"
   ],
   "metadata": {
    "collapsed": false
   }
  }
 ],
 "metadata": {
  "kernelspec": {
   "display_name": "Python 3",
   "language": "python",
   "name": "python3"
  },
  "language_info": {
   "codemirror_mode": {
    "name": "ipython",
    "version": 2
   },
   "file_extension": ".py",
   "mimetype": "text/x-python",
   "name": "python",
   "nbconvert_exporter": "python",
   "pygments_lexer": "ipython2",
   "version": "2.7.6"
  }
 },
 "nbformat": 4,
 "nbformat_minor": 0
}
