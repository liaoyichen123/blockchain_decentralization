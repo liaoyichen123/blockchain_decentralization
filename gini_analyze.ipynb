{
 "cells": [
  {
   "cell_type": "code",
   "execution_count": 1,
   "metadata": {},
   "outputs": [],
   "source": [
    "import sqlite3\n",
    "import pandas as pd"
   ]
  },
  {
   "cell_type": "code",
   "execution_count": 2,
   "metadata": {},
   "outputs": [],
   "source": [
    "conn = sqlite3.connect('PBS.db')\n",
    "builder_proposer_tx = pd.read_sql_query(\n",
    "    \"SELECT * FROM builder_proposer_tx\", conn)\n",
    "relay_data = pd.read_sql_query(\"SELECT * FROM relay_data\", conn)\n",
    "df = pd.merge(builder_proposer_tx, relay_data, on='block_hash')\n",
    "df = df[['relay', 'block_number_x', 'builder_pubkey', 'to_address']]\n",
    "df = df.rename(columns={'block_number_x': 'block_number', 'to_address': 'proposer_address'})"
   ]
  },
  {
   "cell_type": "code",
   "execution_count": 11,
   "metadata": {},
   "outputs": [
    {
     "data": {
      "text/html": [
       "<div>\n",
       "<style scoped>\n",
       "    .dataframe tbody tr th:only-of-type {\n",
       "        vertical-align: middle;\n",
       "    }\n",
       "\n",
       "    .dataframe tbody tr th {\n",
       "        vertical-align: top;\n",
       "    }\n",
       "\n",
       "    .dataframe thead th {\n",
       "        text-align: right;\n",
       "    }\n",
       "</style>\n",
       "<table border=\"1\" class=\"dataframe\">\n",
       "  <thead>\n",
       "    <tr style=\"text-align: right;\">\n",
       "      <th></th>\n",
       "      <th>relay</th>\n",
       "      <th>block_number</th>\n",
       "      <th>builder_pubkey</th>\n",
       "      <th>proposer_address</th>\n",
       "    </tr>\n",
       "  </thead>\n",
       "  <tbody>\n",
       "    <tr>\n",
       "      <th>0</th>\n",
       "      <td>agnostic Gnosis</td>\n",
       "      <td>18951601</td>\n",
       "      <td>0x978a35c39c41aadbe35ea29712bccffb117cc6ebcad4...</td>\n",
       "      <td>0xb3d9cf8e163bbc840195a97e81f8a34e295b8f39</td>\n",
       "    </tr>\n",
       "    <tr>\n",
       "      <th>1</th>\n",
       "      <td>ultrasound</td>\n",
       "      <td>18951601</td>\n",
       "      <td>0x978a35c39c41aadbe35ea29712bccffb117cc6ebcad4...</td>\n",
       "      <td>0xb3d9cf8e163bbc840195a97e81f8a34e295b8f39</td>\n",
       "    </tr>\n",
       "    <tr>\n",
       "      <th>2</th>\n",
       "      <td>flashbots</td>\n",
       "      <td>18951918</td>\n",
       "      <td>0xae7f0dd473d986b277539cca610aba02c437082ac504...</td>\n",
       "      <td>0x0000000000450702bc4f750fd1e7ecad7054c4f1</td>\n",
       "    </tr>\n",
       "    <tr>\n",
       "      <th>3</th>\n",
       "      <td>agnostic Gnosis</td>\n",
       "      <td>18951918</td>\n",
       "      <td>0xae7f0dd473d986b277539cca610aba02c437082ac504...</td>\n",
       "      <td>0x0000000000450702bc4f750fd1e7ecad7054c4f1</td>\n",
       "    </tr>\n",
       "    <tr>\n",
       "      <th>4</th>\n",
       "      <td>ultrasound</td>\n",
       "      <td>18951918</td>\n",
       "      <td>0xae7f0dd473d986b277539cca610aba02c437082ac504...</td>\n",
       "      <td>0x0000000000450702bc4f750fd1e7ecad7054c4f1</td>\n",
       "    </tr>\n",
       "    <tr>\n",
       "      <th>...</th>\n",
       "      <td>...</td>\n",
       "      <td>...</td>\n",
       "      <td>...</td>\n",
       "      <td>...</td>\n",
       "    </tr>\n",
       "    <tr>\n",
       "      <th>196814</th>\n",
       "      <td>agnostic Gnosis</td>\n",
       "      <td>18911286</td>\n",
       "      <td>0x83d3495a2951065cf19c4d282afca0a635a39f6504bd...</td>\n",
       "      <td>0xd6e4aa932147a3fe5311da1b67d9e73da06f9cef</td>\n",
       "    </tr>\n",
       "    <tr>\n",
       "      <th>196815</th>\n",
       "      <td>aestus</td>\n",
       "      <td>19089909</td>\n",
       "      <td>0xb0a3a5e8e0330698176d35fda999f522d99222597559...</td>\n",
       "      <td>0xd6e4aa932147a3fe5311da1b67d9e73da06f9cef</td>\n",
       "    </tr>\n",
       "    <tr>\n",
       "      <th>196816</th>\n",
       "      <td>ultrasound</td>\n",
       "      <td>19091524</td>\n",
       "      <td>0xaec4ec48c2ec03c418c599622980184e926f0de3c9ce...</td>\n",
       "      <td>0xd6e4aa932147a3fe5311da1b67d9e73da06f9cef</td>\n",
       "    </tr>\n",
       "    <tr>\n",
       "      <th>196817</th>\n",
       "      <td>flashbots</td>\n",
       "      <td>19093173</td>\n",
       "      <td>0x978a35c39c41aadbe35ea29712bccffb117cc6ebcad4...</td>\n",
       "      <td>0xd6e4aa932147a3fe5311da1b67d9e73da06f9cef</td>\n",
       "    </tr>\n",
       "    <tr>\n",
       "      <th>196818</th>\n",
       "      <td>aestus</td>\n",
       "      <td>18985865</td>\n",
       "      <td>0xb0a3a5e8e0330698176d35fda999f522d99222597559...</td>\n",
       "      <td>0xd6e4aa932147a3fe5311da1b67d9e73da06f9cef</td>\n",
       "    </tr>\n",
       "  </tbody>\n",
       "</table>\n",
       "<p>196819 rows × 4 columns</p>\n",
       "</div>"
      ],
      "text/plain": [
       "                  relay  block_number  \\\n",
       "0       agnostic Gnosis      18951601   \n",
       "1            ultrasound      18951601   \n",
       "2             flashbots      18951918   \n",
       "3       agnostic Gnosis      18951918   \n",
       "4            ultrasound      18951918   \n",
       "...                 ...           ...   \n",
       "196814  agnostic Gnosis      18911286   \n",
       "196815           aestus      19089909   \n",
       "196816       ultrasound      19091524   \n",
       "196817        flashbots      19093173   \n",
       "196818           aestus      18985865   \n",
       "\n",
       "                                           builder_pubkey  \\\n",
       "0       0x978a35c39c41aadbe35ea29712bccffb117cc6ebcad4...   \n",
       "1       0x978a35c39c41aadbe35ea29712bccffb117cc6ebcad4...   \n",
       "2       0xae7f0dd473d986b277539cca610aba02c437082ac504...   \n",
       "3       0xae7f0dd473d986b277539cca610aba02c437082ac504...   \n",
       "4       0xae7f0dd473d986b277539cca610aba02c437082ac504...   \n",
       "...                                                   ...   \n",
       "196814  0x83d3495a2951065cf19c4d282afca0a635a39f6504bd...   \n",
       "196815  0xb0a3a5e8e0330698176d35fda999f522d99222597559...   \n",
       "196816  0xaec4ec48c2ec03c418c599622980184e926f0de3c9ce...   \n",
       "196817  0x978a35c39c41aadbe35ea29712bccffb117cc6ebcad4...   \n",
       "196818  0xb0a3a5e8e0330698176d35fda999f522d99222597559...   \n",
       "\n",
       "                                  proposer_address  \n",
       "0       0xb3d9cf8e163bbc840195a97e81f8a34e295b8f39  \n",
       "1       0xb3d9cf8e163bbc840195a97e81f8a34e295b8f39  \n",
       "2       0x0000000000450702bc4f750fd1e7ecad7054c4f1  \n",
       "3       0x0000000000450702bc4f750fd1e7ecad7054c4f1  \n",
       "4       0x0000000000450702bc4f750fd1e7ecad7054c4f1  \n",
       "...                                            ...  \n",
       "196814  0xd6e4aa932147a3fe5311da1b67d9e73da06f9cef  \n",
       "196815  0xd6e4aa932147a3fe5311da1b67d9e73da06f9cef  \n",
       "196816  0xd6e4aa932147a3fe5311da1b67d9e73da06f9cef  \n",
       "196817  0xd6e4aa932147a3fe5311da1b67d9e73da06f9cef  \n",
       "196818  0xd6e4aa932147a3fe5311da1b67d9e73da06f9cef  \n",
       "\n",
       "[196819 rows x 4 columns]"
      ]
     },
     "execution_count": 11,
     "metadata": {},
     "output_type": "execute_result"
    }
   ],
   "source": [
    "df"
   ]
  },
  {
   "cell_type": "code",
   "execution_count": 4,
   "metadata": {},
   "outputs": [],
   "source": [
    "def get_relay_gini(df):\n",
    "    relay_df = df.groupby('relay')['block_number'].nunique().reset_index()\n",
    "    relay_df.columns = ['relay', 'cumulative_block_number']\n",
    "\n",
    "    relays = relay_df['relay'].unique()\n",
    "    relay_blocks = relay_df['cumulative_block_number']\n",
    "\n",
    "    numerator = 0\n",
    "    denominator = 2 * len(relays) * relay_blocks.sum()\n",
    "\n",
    "    for i in range(len(relays)):\n",
    "        for j in range(i+1, len(relays)):\n",
    "            numerator += abs(relay_blocks.iloc[i] - relay_blocks.iloc[j])\n",
    "\n",
    "    return numerator / denominator"
   ]
  },
  {
   "cell_type": "code",
   "execution_count": 5,
   "metadata": {},
   "outputs": [],
   "source": [
    "def get_builder_gini(df):\n",
    "    builder_df = df.groupby('builder_pubkey')['block_number'].nunique().reset_index()\n",
    "    builder_df.columns = ['builder_pubkey', 'cumulative_block_number']\n",
    "\n",
    "    builders = builder_df['builder_pubkey'].unique()\n",
    "    builder_blocks = builder_df['cumulative_block_number']\n",
    "\n",
    "    numerator = 0\n",
    "    denominator = 2 * len(builders) * builder_blocks.sum()\n",
    "\n",
    "    for i in range(len(builders)):\n",
    "        for j in range(i+1, len(builders)):\n",
    "            numerator += abs(builder_blocks.iloc[i] - builder_blocks.iloc[j])\n",
    "\n",
    "    return numerator / denominator"
   ]
  },
  {
   "cell_type": "code",
   "execution_count": 6,
   "metadata": {},
   "outputs": [],
   "source": [
    "def get_proposer_gini(df):\n",
    "    proposer_df = df.groupby('proposer_address')[\n",
    "        'block_number'].nunique().reset_index()\n",
    "    proposer_df.columns = ['proposer_address', 'cumulative_block_number']\n",
    "\n",
    "    proposers = proposer_df['proposer_address'].unique()\n",
    "    proposer_blocks = proposer_df['cumulative_block_number']\n",
    "\n",
    "    numerator = 0\n",
    "    denominator = 2 * len(proposers) * proposer_blocks.sum()\n",
    "\n",
    "    for i in range(len(proposers)):\n",
    "        for j in range(i+1, len(proposers)):\n",
    "            numerator += abs(proposer_blocks.iloc[i] - proposer_blocks.iloc[j])\n",
    "\n",
    "    return numerator / denominator"
   ]
  },
  {
   "cell_type": "code",
   "execution_count": 7,
   "metadata": {},
   "outputs": [
    {
     "data": {
      "text/plain": [
       "0.2519281675041536"
      ]
     },
     "execution_count": 7,
     "metadata": {},
     "output_type": "execute_result"
    }
   ],
   "source": [
    "get_relay_gini(df)"
   ]
  },
  {
   "cell_type": "code",
   "execution_count": 8,
   "metadata": {},
   "outputs": [
    {
     "data": {
      "text/plain": [
       "0.37463875373346783"
      ]
     },
     "execution_count": 8,
     "metadata": {},
     "output_type": "execute_result"
    }
   ],
   "source": [
    "get_builder_gini(df)"
   ]
  },
  {
   "cell_type": "code",
   "execution_count": 9,
   "metadata": {},
   "outputs": [
    {
     "data": {
      "text/plain": [
       "0.4628380540053418"
      ]
     },
     "execution_count": 9,
     "metadata": {},
     "output_type": "execute_result"
    }
   ],
   "source": [
    "get_proposer_gini(df)"
   ]
  }
 ],
 "metadata": {
  "kernelspec": {
   "display_name": "Python 3 (ipykernel)",
   "language": "python",
   "name": "python3"
  },
  "language_info": {
   "codemirror_mode": {
    "name": "ipython",
    "version": 3
   },
   "file_extension": ".py",
   "mimetype": "text/x-python",
   "name": "python",
   "nbconvert_exporter": "python",
   "pygments_lexer": "ipython3",
   "version": "3.11.9"
  }
 },
 "nbformat": 4,
 "nbformat_minor": 2
}
