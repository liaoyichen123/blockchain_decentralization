{
 "cells": [
  {
   "cell_type": "code",
   "execution_count": 1,
   "metadata": {},
   "outputs": [],
   "source": [
    "import sqlite3\n",
    "import pandas as pd"
   ]
  },
  {
   "cell_type": "code",
   "execution_count": 10,
   "metadata": {},
   "outputs": [],
   "source": [
    "conn = sqlite3.connect('PBS.db')\n",
    "builder_proposer_tx = pd.read_sql_query(\n",
    "    \"SELECT * FROM builder_proposer_tx\", conn)\n",
    "relay_data = pd.read_sql_query(\"SELECT * FROM relay_data\", conn)\n",
    "df = pd.merge(builder_proposer_tx, relay_data.drop_duplicates(subset='block_number'), on='block_hash')\n",
    "df = df[['relay', 'block_number_x', 'from_address', 'to_address']]\n",
    "df = df.rename(columns={'block_number_x': 'block_number', 'from_address' : 'builder_pubkey','to_address': 'proposer_address'})"
   ]
  },
  {
   "cell_type": "code",
   "execution_count": 12,
   "metadata": {},
   "outputs": [
    {
     "data": {
      "text/plain": "                  relay  block_number  \\\n0       agnostic Gnosis      18951601   \n1             flashbots      18951918   \n2             flashbots      18952077   \n3             flashbots      18953144   \n4             flashbots      18953421   \n...                 ...           ...   \n140349  agnostic Gnosis      18911286   \n140350           aestus      19089909   \n140351       ultrasound      19091524   \n140352        flashbots      19093173   \n140353           aestus      18985865   \n\n                                    builder_pubkey  \\\n0       0x1f9090aae28b8a3dceadf281b0f12828e676c326   \n1       0x0aa8ebb6ad5a8e499e550ae2c461197624c6e667   \n2       0xbd3afb0bb76683ecb4225f9dbc91f998713c3b01   \n3       0x229b8325bb9ac04602898b7e8989998710235d5f   \n4       0xbd3afb0bb76683ecb4225f9dbc91f998713c3b01   \n...                                            ...   \n140349  0x1f9090aae28b8a3dceadf281b0f12828e676c326   \n140350  0x88c6c46ebf353a52bdbab708c23d0c81daa8134a   \n140351  0x95222290dd7278aa3ddd389cc1e1d165cc4bafe5   \n140352  0x1f9090aae28b8a3dceadf281b0f12828e676c326   \n140353  0x88c6c46ebf353a52bdbab708c23d0c81daa8134a   \n\n                                  proposer_address  \n0       0xb3d9cf8e163bbc840195a97e81f8a34e295b8f39  \n1       0x0000000000450702bc4f750fd1e7ecad7054c4f1  \n2       0x717bbc4fa6574abb4ffadccfe00270be21e7473a  \n3       0x388c818ca8b9251b393131c08a736a67ccb19297  \n4       0x13f2241aa64bb6da2b74553fa9e12b713b74f334  \n...                                            ...  \n140349  0xd6e4aa932147a3fe5311da1b67d9e73da06f9cef  \n140350  0xd6e4aa932147a3fe5311da1b67d9e73da06f9cef  \n140351  0xd6e4aa932147a3fe5311da1b67d9e73da06f9cef  \n140352  0xd6e4aa932147a3fe5311da1b67d9e73da06f9cef  \n140353  0xd6e4aa932147a3fe5311da1b67d9e73da06f9cef  \n\n[140354 rows x 4 columns]",
      "text/html": "<div>\n<style scoped>\n    .dataframe tbody tr th:only-of-type {\n        vertical-align: middle;\n    }\n\n    .dataframe tbody tr th {\n        vertical-align: top;\n    }\n\n    .dataframe thead th {\n        text-align: right;\n    }\n</style>\n<table border=\"1\" class=\"dataframe\">\n  <thead>\n    <tr style=\"text-align: right;\">\n      <th></th>\n      <th>relay</th>\n      <th>block_number</th>\n      <th>builder_pubkey</th>\n      <th>proposer_address</th>\n    </tr>\n  </thead>\n  <tbody>\n    <tr>\n      <th>0</th>\n      <td>agnostic Gnosis</td>\n      <td>18951601</td>\n      <td>0x1f9090aae28b8a3dceadf281b0f12828e676c326</td>\n      <td>0xb3d9cf8e163bbc840195a97e81f8a34e295b8f39</td>\n    </tr>\n    <tr>\n      <th>1</th>\n      <td>flashbots</td>\n      <td>18951918</td>\n      <td>0x0aa8ebb6ad5a8e499e550ae2c461197624c6e667</td>\n      <td>0x0000000000450702bc4f750fd1e7ecad7054c4f1</td>\n    </tr>\n    <tr>\n      <th>2</th>\n      <td>flashbots</td>\n      <td>18952077</td>\n      <td>0xbd3afb0bb76683ecb4225f9dbc91f998713c3b01</td>\n      <td>0x717bbc4fa6574abb4ffadccfe00270be21e7473a</td>\n    </tr>\n    <tr>\n      <th>3</th>\n      <td>flashbots</td>\n      <td>18953144</td>\n      <td>0x229b8325bb9ac04602898b7e8989998710235d5f</td>\n      <td>0x388c818ca8b9251b393131c08a736a67ccb19297</td>\n    </tr>\n    <tr>\n      <th>4</th>\n      <td>flashbots</td>\n      <td>18953421</td>\n      <td>0xbd3afb0bb76683ecb4225f9dbc91f998713c3b01</td>\n      <td>0x13f2241aa64bb6da2b74553fa9e12b713b74f334</td>\n    </tr>\n    <tr>\n      <th>...</th>\n      <td>...</td>\n      <td>...</td>\n      <td>...</td>\n      <td>...</td>\n    </tr>\n    <tr>\n      <th>140349</th>\n      <td>agnostic Gnosis</td>\n      <td>18911286</td>\n      <td>0x1f9090aae28b8a3dceadf281b0f12828e676c326</td>\n      <td>0xd6e4aa932147a3fe5311da1b67d9e73da06f9cef</td>\n    </tr>\n    <tr>\n      <th>140350</th>\n      <td>aestus</td>\n      <td>19089909</td>\n      <td>0x88c6c46ebf353a52bdbab708c23d0c81daa8134a</td>\n      <td>0xd6e4aa932147a3fe5311da1b67d9e73da06f9cef</td>\n    </tr>\n    <tr>\n      <th>140351</th>\n      <td>ultrasound</td>\n      <td>19091524</td>\n      <td>0x95222290dd7278aa3ddd389cc1e1d165cc4bafe5</td>\n      <td>0xd6e4aa932147a3fe5311da1b67d9e73da06f9cef</td>\n    </tr>\n    <tr>\n      <th>140352</th>\n      <td>flashbots</td>\n      <td>19093173</td>\n      <td>0x1f9090aae28b8a3dceadf281b0f12828e676c326</td>\n      <td>0xd6e4aa932147a3fe5311da1b67d9e73da06f9cef</td>\n    </tr>\n    <tr>\n      <th>140353</th>\n      <td>aestus</td>\n      <td>18985865</td>\n      <td>0x88c6c46ebf353a52bdbab708c23d0c81daa8134a</td>\n      <td>0xd6e4aa932147a3fe5311da1b67d9e73da06f9cef</td>\n    </tr>\n  </tbody>\n</table>\n<p>140354 rows × 4 columns</p>\n</div>"
     },
     "execution_count": 12,
     "metadata": {},
     "output_type": "execute_result"
    }
   ],
   "source": [
    "df"
   ]
  },
  {
   "cell_type": "code",
   "execution_count": 23,
   "metadata": {},
   "outputs": [],
   "source": [
    "def get_relay_gini(df):\n",
    "    relay_df = df.groupby('relay')['block_number'].nunique().reset_index()\n",
    "    relay_df.columns = ['relay', 'cumulative_block_number']\n",
    "\n",
    "    relays = relay_df['relay'].unique()\n",
    "    relay_blocks = relay_df['cumulative_block_number']\n",
    "\n",
    "    numerator = 0\n",
    "    denominator = 2 * len(relays) * relay_blocks.sum()\n",
    "\n",
    "    for i in range(len(relays)):\n",
    "        for j in range(i+1, len(relays)):\n",
    "            numerator += abs(relay_blocks.iloc[i] - relay_blocks.iloc[j])\n",
    "\n",
    "    return numerator / denominator"
   ]
  },
  {
   "cell_type": "code",
   "execution_count": 14,
   "metadata": {},
   "outputs": [],
   "source": [
    "def get_builder_gini(df):\n",
    "    builder_df = df.groupby('builder_pubkey')['block_number'].nunique().reset_index()\n",
    "    builder_df.columns = ['builder_pubkey', 'cumulative_block_number']\n",
    "\n",
    "    builders = builder_df['builder_pubkey'].unique()\n",
    "    builder_blocks = builder_df['cumulative_block_number']\n",
    "\n",
    "    numerator = 0\n",
    "    denominator = 2 * len(builders) * builder_blocks.sum()\n",
    "\n",
    "    for i in range(len(builders)):\n",
    "        for j in range(i+1, len(builders)):\n",
    "            numerator += abs(builder_blocks.iloc[i] - builder_blocks.iloc[j])\n",
    "\n",
    "    return numerator / denominator"
   ]
  },
  {
   "cell_type": "code",
   "execution_count": 15,
   "metadata": {},
   "outputs": [],
   "source": [
    "def get_proposer_gini(df):\n",
    "    proposer_df = df.groupby('proposer_address')[\n",
    "        'block_number'].nunique().reset_index()\n",
    "    proposer_df.columns = ['proposer_address', 'cumulative_block_number']\n",
    "\n",
    "    proposers = proposer_df['proposer_address'].unique()\n",
    "    proposer_blocks = proposer_df['cumulative_block_number']\n",
    "\n",
    "    numerator = 0\n",
    "    denominator = 2 * len(proposers) * proposer_blocks.sum()\n",
    "\n",
    "    for i in range(len(proposers)):\n",
    "        for j in range(i+1, len(proposers)):\n",
    "            numerator += abs(proposer_blocks.iloc[i] - proposer_blocks.iloc[j])\n",
    "\n",
    "    return numerator / denominator"
   ]
  },
  {
   "cell_type": "code",
   "execution_count": 24,
   "metadata": {},
   "outputs": [
    {
     "data": {
      "text/plain": "0.26662463010198023"
     },
     "execution_count": 24,
     "metadata": {},
     "output_type": "execute_result"
    }
   ],
   "source": [
    "get_relay_gini(df)"
   ]
  },
  {
   "cell_type": "code",
   "execution_count": 17,
   "metadata": {},
   "outputs": [
    {
     "data": {
      "text/plain": "0.48955387592690414"
     },
     "execution_count": 17,
     "metadata": {},
     "output_type": "execute_result"
    }
   ],
   "source": [
    "get_builder_gini(df)"
   ]
  },
  {
   "cell_type": "code",
   "execution_count": 18,
   "metadata": {},
   "outputs": [
    {
     "data": {
      "text/plain": "0.4628380540053418"
     },
     "execution_count": 18,
     "metadata": {},
     "output_type": "execute_result"
    }
   ],
   "source": [
    "get_proposer_gini(df)"
   ]
  },
  {
   "cell_type": "code",
   "execution_count": null,
   "outputs": [],
   "source": [],
   "metadata": {
    "collapsed": false
   }
  }
 ],
 "metadata": {
  "kernelspec": {
   "display_name": "Python 3 (ipykernel)",
   "language": "python",
   "name": "python3"
  },
  "language_info": {
   "codemirror_mode": {
    "name": "ipython",
    "version": 3
   },
   "file_extension": ".py",
   "mimetype": "text/x-python",
   "name": "python",
   "nbconvert_exporter": "python",
   "pygments_lexer": "ipython3",
   "version": "3.11.9"
  }
 },
 "nbformat": 4,
 "nbformat_minor": 2
}
